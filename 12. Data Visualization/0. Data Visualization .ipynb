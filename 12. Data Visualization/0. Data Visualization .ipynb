{
 "cells": [
  {
   "cell_type": "markdown",
   "id": "df59df8a",
   "metadata": {},
   "source": [
    "<div style=\"padding:20px;\n",
    "            color:white;\n",
    "            margin:10;\n",
    "            font-size:170%;\n",
    "            text-align:left;\n",
    "            display:fill;\n",
    "            border-radius:5px;\n",
    "            background-color:#CA6F1E;\n",
    "            overflow:hidden;\n",
    "            font-weight:700\"><span style='color:#283747'></span>\"Table of Contents\" </div>"
   ]
  },
  {
   "cell_type": "markdown",
   "id": "1a2a422d",
   "metadata": {},
   "source": [
    "\n",
    "<a id=\"toc\"></a> \n",
    "<div class=\"alert alert-block alert-info\" style=\"margin-top: 20px\">\n",
    "<hr>\n",
    "\n",
    "- [1. Introduction to Data Visualization](#introduction)\n",
    "- [2. The 3 key Questions](#threequestions)\n",
    "    \n",
    "- [3. Introduction to Matplotlib](#introduction_to_matploblib) \n",
    "    \n",
    "    - [3.1 Meet Matploblib](#function_plot)\n",
    "       \n",
    "    - [3.2 Compatable Data Types ](#bar_graph)\n",
    "        \n",
    "    - [3.4 Plotting Methods](#1.1)\n",
    "      \n",
    "    - [3.5 OBJECT-ORIENTED PLOTTING]()\n",
    "        \n",
    "- [4. Chart Formatting](#peichart)\n",
    "  \n",
    "    - [Chart Tittle](#chart_title)\n",
    "    - [Font Size](#font_size)\n",
    "    - [Legend](#legend)\n",
    "    - [Line Style](#line_style)\n",
    "- [5. Chart Types](#chart_types)  \n",
    "<hr>"
   ]
  },
  {
   "cell_type": "markdown",
   "id": "144828dc-6d25-4187-9f33-a6da02663614",
   "metadata": {},
   "source": [
    "\n",
    "## <b>2. <span style='color:#00008B'>Introduction</span></b>"
   ]
  },
  {
   "cell_type": "markdown",
   "id": "b5cc50a9-a778-40dc-a48b-c5f4641a8cf6",
   "metadata": {},
   "source": [
    "### 1.1 Why Data Visualization with python?\n",
    "\n",
    "- Python is Easy to Learn and Has a Strong Community\n",
    "- Python Has Numerous Libraries for Data Visualization\n",
    "- Python Supports Complex Calculations and Plotting\n",
    "- Data Visualization is a Key Step in the Data Science Process\n",
    "- Visualization for Advanced Applications (Machine Learning and Deep Learning)\n"
   ]
  },
  {
   "cell_type": "markdown",
   "id": "e2100127-5a56-4a83-a074-822eafb3584b",
   "metadata": {},
   "source": [
    "\n",
    "## <b>2. <span style='color:#00008B'>The 3 key Questions</span></b>"
   ]
  },
  {
   "cell_type": "markdown",
   "id": "889c7d0f-9ee3-43f8-bf29-6204c4081864",
   "metadata": {},
   "source": [
    "<div style=\"text-align: center;\">\n",
    "    <img src=\"https://raw.githubusercontent.com/ManonYa09/Fundametal_Data_Science_G8/main/11.%20Data%20Visualization/Photo/1.%203%20key%20questions.jpg\" width=\"1000\">\n",
    "</div>"
   ]
  },
  {
   "cell_type": "markdown",
   "id": "f24e6720-48be-4a72-ba17-5bdfbd6f624e",
   "metadata": {},
   "source": [
    "<a id='introduction_to_matploblib'></a>\n",
    "<div style=\"padding:20px;\n",
    "            color:white;\n",
    "            margin:10;\n",
    "            font-size:170%;\n",
    "            text-align:left;\n",
    "            display:fill;\n",
    "            border-radius:5px;\n",
    "            background-color:#CA6F1E;\n",
    "            overflow:hidden;\n",
    "            font-weight:700\"><span style='color:#283747'></span>3. Introduction to Matplotlib </div>"
   ]
  },
  {
   "cell_type": "markdown",
   "id": "45448ed2-9ced-4fcb-99c1-18c5c0469249",
   "metadata": {},
   "source": [
    "<div style=\"text-align: center;\">\n",
    "    <img src=\"https://raw.githubusercontent.com/ManonYa09/Fundametal_Data_Science_G8/main/11.%20Data%20Visualization/Photo/2.%20Introduction%20to%20Matplotlib.jpg\" alt=\"Introduction to Data Visualization\" width=\"1000\">\n",
    "</div>"
   ]
  },
  {
   "cell_type": "markdown",
   "id": "f87d836b",
   "metadata": {},
   "source": [
    "Matplotlib is the `grandfather` library of data visualization with Python. It was created by **John Hunter**. He created it to try to replicate MatLab's (another programming language) plotting capabilities in Python. So if you happen to be familiar with matlab, matplotlib will feel natural to you.\n",
    "\n",
    "Matplotlib allows you to create reproducible figures programmatically. http://matplotlib.org/"
   ]
  },
  {
   "cell_type": "code",
   "execution_count": null,
   "id": "8ebc29e8-17ed-4041-a725-13716e297f1c",
   "metadata": {},
   "outputs": [],
   "source": [
    "import pandas as pd\n",
    "import matplotlib.pyplot as plt\n",
    "import numpy as np"
   ]
  },
  {
   "cell_type": "markdown",
   "id": "16e6975d-449a-4c24-9aeb-d2e3c9b521be",
   "metadata": {},
   "source": [
    "### 3.1 Meet Matplotlib\n",
    "\n",
    "<div style=\"text-align: center;\">\n",
    "    <img src=\"https://raw.githubusercontent.com/ManonYa09/Fundametal_Data_Science_G8/main/11.%20Data%20Visualization/Photo/3.%20Meet%20Matplotlib.jpg\" alt=\"Introduction to Data Visualization\" width=\"1000\">\n",
    "</div>"
   ]
  },
  {
   "cell_type": "markdown",
   "id": "d3403ce2",
   "metadata": {},
   "source": [
    "```py\n",
    "plot([x], y, [fmt], *, data=None, **kwargs)\n",
    "plot([x], y, [fmt], [x2], y2, [fmt2], ..., **kwargs)\n",
    "\n",
    "```\n"
   ]
  },
  {
   "cell_type": "code",
   "execution_count": 1,
   "id": "7e9c7b63-315d-4a16-9165-8a592bf34845",
   "metadata": {},
   "outputs": [
    {
     "data": {
      "text/plain": [
       "[<matplotlib.lines.Line2D at 0x1178a5090>]"
      ]
     },
     "execution_count": 1,
     "metadata": {},
     "output_type": "execute_result"
    },
    {
     "data": {
      "image/png": "[encoded data removed]",
      "text/plain": [
       "<Figure size 640x480 with 1 Axes>"
      ]
     },
     "metadata": {},
     "output_type": "display_data"
    }
   ],
   "source": [
    "import matplotlib.pyplot as plt\n",
    "plt.plot([0, 1, 4, 9, 16, 25])"
   ]
  },
  {
   "cell_type": "code",
   "execution_count": null,
   "id": "36f0690b",
   "metadata": {},
   "outputs": [],
   "source": [
    "# plt.plot()"
   ]
  },
  {
   "cell_type": "code",
   "execution_count": null,
   "id": "f6196582",
   "metadata": {},
   "outputs": [],
   "source": [
    "# ### x = 1, 2, 3, 4, 5, 6, \n",
    "# plt.plot([1, 2, 3, 5, 8, 7],  [0, 1, 4, 9, 16, 25])\n",
    "# plt.show()"
   ]
  },
  {
   "cell_type": "code",
   "execution_count": null,
   "id": "ecaee773",
   "metadata": {},
   "outputs": [],
   "source": [
    "# plt.plot([0, 1, 4, 9, 16, 25])\n",
    "\n",
    "# plt.show()"
   ]
  },
  {
   "cell_type": "code",
   "execution_count": null,
   "id": "4911b91a",
   "metadata": {},
   "outputs": [],
   "source": [
    "# plt.figure(figsize=(10, 4), dpi = 300) ## figsize = (width, height)\n",
    "# plt.plot([0, 1, 4, 9, 16, 25])\n",
    "# plt.show()"
   ]
  },
  {
   "cell_type": "code",
   "execution_count": null,
   "id": "821b39c2",
   "metadata": {},
   "outputs": [],
   "source": [
    "# plt.figure(figsize= (10, 4), dpi = 500)\n",
    "# plt.plot([0, 1, 4, 9 ,16, 25])\n",
    "# plt.savefig('Lineplot')\n",
    "# plt.show()\n"
   ]
  },
  {
   "cell_type": "markdown",
   "id": "0613aefa-d71a-440a-a99e-4d2621cd1080",
   "metadata": {},
   "source": [
    "### 3.2 Compatable Data types\n",
    "<div style=\"text-align: center;\">\n",
    "    <img src=\"https://raw.githubusercontent.com/ManonYa09/Fundametal_Data_Science_G8/main/11.%20Data%20Visualization/Photo/4.%20Matplotlib%20with%20data%20types.jpg\" alt=\"Introduction to Data Visualization\" width=\"1000\">\n",
    "</div>"
   ]
  },
  {
   "cell_type": "code",
   "execution_count": null,
   "id": "587ef108",
   "metadata": {},
   "outputs": [],
   "source": [
    "# x = list(range(10))"
   ]
  },
  {
   "cell_type": "code",
   "execution_count": null,
   "id": "50a5ace8",
   "metadata": {},
   "outputs": [],
   "source": [
    "# y = [x**2 for x in x]"
   ]
  },
  {
   "cell_type": "code",
   "execution_count": null,
   "id": "ee0a976a",
   "metadata": {},
   "outputs": [],
   "source": [
    "# z = [x**3 for x in x]"
   ]
  },
  {
   "cell_type": "code",
   "execution_count": null,
   "id": "213b43c9",
   "metadata": {},
   "outputs": [],
   "source": [
    "# plt.figure(figsize=(10, 4), dpi  = 300)\n",
    "# plt.plot(y);"
   ]
  },
  {
   "cell_type": "code",
   "execution_count": null,
   "id": "c9cabbe8",
   "metadata": {},
   "outputs": [],
   "source": [
    "# np.arange(0, 10, 1)"
   ]
  },
  {
   "cell_type": "code",
   "execution_count": null,
   "id": "0c2b90ba",
   "metadata": {},
   "outputs": [],
   "source": [
    "# xz\n"
   ]
  },
  {
   "cell_type": "code",
   "execution_count": null,
   "id": "fca5c3a5",
   "metadata": {},
   "outputs": [],
   "source": [
    "# plt.figure(figsize=(10, 4))\n",
    "# plt.title('Plot x')\n",
    "# plt.ylabel('Y', rotation = 0)\n",
    "# plt.xlabel('X')\n",
    "# plt.xticks(np.arange(0, 10, 1))\n",
    "# plt.yticks(np.arange(0, 10, 1))\n",
    "# plt.plot(x)\n",
    "# plt.savefig('Plot x')\n",
    "# plt.show()"
   ]
  },
  {
   "cell_type": "code",
   "execution_count": null,
   "id": "4f11a72b",
   "metadata": {},
   "outputs": [],
   "source": [
    "# np.arange(0, 10, 1)"
   ]
  },
  {
   "cell_type": "code",
   "execution_count": null,
   "id": "9dea6845",
   "metadata": {},
   "outputs": [],
   "source": [
    "# plt.figure(figsize=(10, 4), dpi = 300)\n",
    "# plt.title('Plot x with z')\n",
    "# plt.xlabel('Variable x')\n",
    "# plt.ylabel('Variable z')\n",
    "# plt.xticks(np.arange(0, 10, 1))\n",
    "# # plt.yticks(np.arange(0, 800, 50))\n",
    "# plt.plot(x, z, color = 'r')\n",
    "# plt.show()"
   ]
  },
  {
   "cell_type": "code",
   "execution_count": null,
   "id": "2c205e24",
   "metadata": {},
   "outputs": [],
   "source": [
    "# x = np.arange(0, 100, 0.1)\n",
    "# "
   ]
  },
  {
   "cell_type": "code",
   "execution_count": null,
   "id": "09f9cb62",
   "metadata": {},
   "outputs": [],
   "source": [
    "# x = np.arange(0, 100, 0.1)\n",
    "# y = np.sin(x)\n",
    "# y"
   ]
  },
  {
   "cell_type": "code",
   "execution_count": null,
   "id": "0af46ee0",
   "metadata": {},
   "outputs": [],
   "source": [
    "# plt.figure(figsize=(10, 4))\n",
    "# plt.xlabel('x')\n",
    "# plt.xticks(np.arange(0, 110, 5))\n",
    "# plt.ylabel('sin(x)')\n",
    "# plt.plot(x, y, color = 'red', ls = '--')\n",
    "# plt.title('Sin(x) Distribution')\n",
    "# # plt.savefig(fname = 'Sinx.png',dpi = 1000 )\n",
    "# plt.show()\n"
   ]
  },
  {
   "cell_type": "code",
   "execution_count": null,
   "id": "44206171",
   "metadata": {},
   "outputs": [],
   "source": []
  },
  {
   "cell_type": "code",
   "execution_count": null,
   "id": "a09c2bbb",
   "metadata": {},
   "outputs": [],
   "source": [
    "# plt.figure(figsize=(10, 4), dpi = 100)\n",
    "# plt.xlabel('x')\n",
    "# plt.ylabel('sin(x)')\n",
    "# plt.plot(x, y, color = 'red')\n",
    "# plt.title('Sin(x) Distribution')\n",
    "# plt.savefig('Sin(x)')\n",
    "# plt.show()"
   ]
  },
  {
   "cell_type": "code",
   "execution_count": null,
   "id": "b13940f2",
   "metadata": {},
   "outputs": [],
   "source": []
  },
  {
   "cell_type": "code",
   "execution_count": null,
   "id": "c691b7e5",
   "metadata": {},
   "outputs": [],
   "source": [
    "x = list(range(10))\n",
    "y = [x**2 for x in x]\n",
    "z = [x**3 for x in x]"
   ]
  },
  {
   "cell_type": "code",
   "execution_count": null,
   "id": "fd83262c",
   "metadata": {},
   "outputs": [],
   "source": [
    "x"
   ]
  },
  {
   "cell_type": "code",
   "execution_count": null,
   "id": "d6f67a9b",
   "metadata": {},
   "outputs": [],
   "source": [
    "y"
   ]
  },
  {
   "cell_type": "code",
   "execution_count": null,
   "id": "bbc06721",
   "metadata": {},
   "outputs": [],
   "source": [
    "z"
   ]
  },
  {
   "cell_type": "code",
   "execution_count": null,
   "id": "0a7f1b69",
   "metadata": {},
   "outputs": [],
   "source": [
    "\n",
    "df = pd.DataFrame(\n",
    "    {\n",
    "        'x': x,\n",
    "        'y': y,\n",
    "        'z': z\n",
    "    }\n",
    ")"
   ]
  },
  {
   "cell_type": "code",
   "execution_count": null,
   "id": "a26db7de",
   "metadata": {},
   "outputs": [],
   "source": [
    "df"
   ]
  },
  {
   "cell_type": "code",
   "execution_count": null,
   "id": "89aaa545",
   "metadata": {},
   "outputs": [],
   "source": [
    "df.head()"
   ]
  },
  {
   "cell_type": "code",
   "execution_count": null,
   "id": "a66046ca",
   "metadata": {},
   "outputs": [],
   "source": [
    "# x>10\n",
    "# x> 5"
   ]
  },
  {
   "cell_type": "code",
   "execution_count": null,
   "id": "e28d585a",
   "metadata": {},
   "outputs": [],
   "source": [
    "df[df['x']>10]"
   ]
  },
  {
   "cell_type": "code",
   "execution_count": null,
   "id": "7051f0ad",
   "metadata": {},
   "outputs": [],
   "source": [
    "df[df['x']>5]"
   ]
  },
  {
   "cell_type": "code",
   "execution_count": null,
   "id": "3fa7e877",
   "metadata": {},
   "outputs": [],
   "source": [
    "x = [5, 7]"
   ]
  },
  {
   "cell_type": "code",
   "execution_count": null,
   "id": "e4bb8702",
   "metadata": {},
   "outputs": [],
   "source": [
    "df[(df['x']>=5)&(df['x']<=7)]"
   ]
  },
  {
   "cell_type": "code",
   "execution_count": null,
   "id": "82e7c464",
   "metadata": {},
   "outputs": [],
   "source": [
    "plt.plot(df['y'], df['x'])\n",
    "plt.show()"
   ]
  },
  {
   "cell_type": "code",
   "execution_count": null,
   "id": "64b6b81e",
   "metadata": {},
   "outputs": [],
   "source": [
    "plt.figure(figsize=(10, 4))\n",
    "plt.xticks(np.arange(0, 10, 1))\n",
    "\n",
    "plt.plot(df['x'], df['y'] , label='Variable (x, y)')\n",
    "plt.plot(df['x'], df['z'], label='Variable (x, z)', color = 'b')\n",
    "plt.plot(df['x'], label = 'Variable x', color = 'black')\n",
    "\n",
    "plt.title('Y vs Z')\n",
    "plt.xlabel('x')\n",
    "\n",
    "plt.legend(loc = 9)\n",
    "plt.savefig('Lineplot3_variable', dpi= 300)\n",
    "plt.show()"
   ]
  },
  {
   "cell_type": "code",
   "execution_count": null,
   "id": "fb1f2add-44ee-4169-a43a-7ecac73c12d1",
   "metadata": {},
   "outputs": [],
   "source": []
  },
  {
   "cell_type": "markdown",
   "id": "b7170f00-b5fd-4dc6-b697-6b2e9edb95db",
   "metadata": {},
   "source": [
    "### 3.4 Plotting Methods \n",
    "<div style=\"text-align: center;\">\n",
    "    <img src=\"https://raw.githubusercontent.com/ManonYa09/Fundametal_Data_Science_G8/main/11.%20Data%20Visualization/Photo/5.%20Two%20method%20or%20interface%20for%20martplotlib.jpg\" alt=\"Introduction to Data Visualization\" width=\"1000\">\n",
    "</div>"
   ]
  },
  {
   "cell_type": "markdown",
   "id": "5f087a98-9548-43a0-94e9-288b79a62fae",
   "metadata": {},
   "source": [
    "### 3.5 OBJECT-ORIENTED PLOTTING\n",
    "<div style=\"text-align: center;\">\n",
    "    <img src=\"https://raw.githubusercontent.com/ManonYa09/Fundametal_Data_Science_G8/main/11.%20Data%20Visualization/Photo/6.%20two%20ways.jpg\" alt=\"Introduction to Data Visualization\" width=\"1000\">\n",
    "</div>"
   ]
  },
  {
   "cell_type": "markdown",
   "id": "c4de2ee8",
   "metadata": {},
   "source": [
    "<a id='chart_formatting'></a>\n",
    "## 4. Chart Formatting\n",
    "<div style=\"text-align: center;\">\n",
    "    <img src=\"https://raw.githubusercontent.com/ManonYa09/Fundametal_Data_Science_G8/main/11.%20Data%20Visualization/Photo/29.jpg\" alt=\"Introduction to Data Visualization\" width=\"1000\">\n",
    "</div>"
   ]
  },
  {
   "cell_type": "markdown",
   "id": "c8db9011-53aa-404e-9981-4fc5dc89a516",
   "metadata": {},
   "source": [
    "### 4.1 Chart Tittle "
   ]
  },
  {
   "cell_type": "markdown",
   "id": "044f504c-3693-4a82-b134-acdcc97850cc",
   "metadata": {},
   "source": [
    "<div style=\"text-align: center;\">\n",
    "    <img src=\"https://raw.githubusercontent.com/ManonYa09/Fundametal_Data_Science_G8/main/11.%20Data%20Visualization/Photo/30.jpg\" alt=\"Introduction to Data Visualization\" width=\"1000\">\n",
    "</div>\n"
   ]
  },
  {
   "cell_type": "code",
   "execution_count": null,
   "id": "081f9021-5f3e-4578-9b30-4ac218714215",
   "metadata": {},
   "outputs": [],
   "source": [
    "df = pd.read_csv('/Users/macbook/Desktop/Fundamental Data Science G8/Data Analysis with Pandas/Housing_data.csv')"
   ]
  },
  {
   "cell_type": "code",
   "execution_count": null,
   "id": "8a96c5d6-17fa-4039-8d41-856302c03ac6",
   "metadata": {},
   "outputs": [],
   "source": [
    "df.dropna(inplace=True)"
   ]
  },
  {
   "cell_type": "code",
   "execution_count": null,
   "id": "250a9fd6-3d0b-4135-b6ab-83be55f6b6d5",
   "metadata": {},
   "outputs": [],
   "source": [
    "' TX'.strip"
   ]
  },
  {
   "cell_type": "code",
   "execution_count": null,
   "id": "ea4d9b4d-8e1b-407a-bcf5-e87f24e87213",
   "metadata": {},
   "outputs": [],
   "source": [
    "df['region_state'] = df['region_name'].str.split().str[-1].str.strip()"
   ]
  },
  {
   "cell_type": "code",
   "execution_count": null,
   "id": "83cdd4b5-bb73-4694-ae7d-93fa6b8c402f",
   "metadata": {},
   "outputs": [],
   "source": [
    "ca_housing = df[df['region_state']=='CA']"
   ]
  },
  {
   "cell_type": "code",
   "execution_count": null,
   "id": "88652df9-9840-4f38-8476-931e216af760",
   "metadata": {},
   "outputs": [],
   "source": [
    "ca_housing['region_name'] = ca_housing['region_name'].str[:-11]"
   ]
  },
  {
   "cell_type": "code",
   "execution_count": null,
   "id": "defbb185-681e-4f85-91b5-91812a7f601b",
   "metadata": {},
   "outputs": [],
   "source": [
    "ca_housing['period_begin'] = pd.to_datetime(ca_housing['period_begin'])"
   ]
  },
  {
   "cell_type": "code",
   "execution_count": null,
   "id": "8f6267d3-59af-47e9-bd58-23576d1e79af",
   "metadata": {},
   "outputs": [],
   "source": [
    "ca_housing_county_importance = ['Los Angeles', 'San Francisco']\n",
    "ca_housing1 = ca_housing[ca_housing['region_name'].isin(ca_housing_county_importance)]"
   ]
  },
  {
   "cell_type": "code",
   "execution_count": null,
   "id": "da7abc5a-ca83-4f4c-b0ca-04f2b91dc1f9",
   "metadata": {},
   "outputs": [],
   "source": [
    "ca_housing1.loc[['2017-01-02'], ['median_active_list_price','region_name']]"
   ]
  },
  {
   "cell_type": "markdown",
   "id": "2c167133-3eda-4ab2-893a-8fbfd3d68324",
   "metadata": {},
   "source": [
    "<div style=\"text-align: center;\">\n",
    "    <img src=\"https://raw.githubusercontent.com/ManonYa09/Fundametal_Data_Science_G8/main/11.%20Data%20Visualization/Photo/30.jpg\" alt=\"Introduction to Data Visualization\" width=\"800\">\n",
    "</div>"
   ]
  },
  {
   "cell_type": "code",
   "execution_count": null,
   "id": "0e9bab5c-d8ee-4208-9043-e5ed7ec7104b",
   "metadata": {},
   "outputs": [],
   "source": [
    "ca_housing1_los_san_compare = ca_housing1.pivot_table(index = 'period_begin', columns='region_name', \n",
    "                        values ='median_active_list_price',\n",
    "                        )"
   ]
  },
  {
   "cell_type": "code",
   "execution_count": null,
   "id": "27f279f4-b6d5-4ec0-9b00-f0f6bb368427",
   "metadata": {},
   "outputs": [],
   "source": [
    "# fig, ax =plt.subplots()\n",
    "# ax.plot(ca_housing1_los_san_compare.index, ca_housing1_los_san_compare['Los Angeles'])\n",
    "# ax.plot(ca_housing1_los_san_compare.index, ca_housing1_los_san_compare['San Francisco'])\n",
    "# fig.suptitle('San Francisco Prices Decline in 2020')\n",
    "# ax.set_title('While Los Angeles Keep Rising')\n",
    "# ax.set_xlabel('Year')\n",
    "# ax.set_ylabel('Medain Home Price')\n",
    "# plt.show()"
   ]
  },
  {
   "cell_type": "markdown",
   "id": "6a6c261c-2232-4fee-aa21-f383a1263fe9",
   "metadata": {},
   "source": [
    "<a id = 'fontsize'><a/>\n",
    "### 4.2 Font Size\n",
    "<div style=\"text-align: center;\">\n",
    "    <img src=\"https://raw.githubusercontent.com/ManonYa09/Fundametal_Data_Science_G8/main/11.%20Data%20Visualization/Photo/legend/1.%20fontsize.jpg\" alt=\"Introduction to Data Visualization\" width=\"800\">\n",
    "</div>"
   ]
  },
  {
   "cell_type": "markdown",
   "id": "881839d7-5652-4bcf-82b3-88ff992e4093",
   "metadata": {},
   "source": [
    "<a id ='legend'><a/>\n",
    "### 4.3 Legend\n",
    "<div style=\"text-align: center;\">\n",
    "    <img src=\"https://raw.githubusercontent.com/ManonYa09/Fundametal_Data_Science_G8/main/11.%20Data%20Visualization/Photo/legend/2.%20legend1.jpg\" alt=\"Introduction to Data Visualization\" width=\"800\">\n",
    "</div>"
   ]
  },
  {
   "cell_type": "markdown",
   "id": "29af7546-5a57-49c6-8116-d36877105efd",
   "metadata": {},
   "source": [
    "<a id = 'line_style'></a>\n",
    "### 4.4 Line Style\n",
    "<div style=\"text-align: center;\">\n",
    "    <img src=\"https://raw.githubusercontent.com/ManonYa09/Fundametal_Data_Science_G8/main/11.%20Data%20Visualization/Photo/legend/4.%20line%20style.jpg\" alt=\"Introduction to Data Visualization\" width=\"800\">\n",
    "</div>"
   ]
  },
  {
   "cell_type": "markdown",
   "id": "56770849-f8c8-4f6f-aa57-31355a861448",
   "metadata": {},
   "source": [
    "<a id = 'chart_types'><a/>\n",
    "## 5. Chart Types"
   ]
  },
  {
   "cell_type": "markdown",
   "id": "d5eacc7a",
   "metadata": {},
   "source": [
    "\n",
    "<a id=\"toc\"></a> \n",
    "<div class=\"alert alert-block alert-info\" style=\"margin-top: 20px\">\n",
    "<hr>\n",
    "    \n",
    "- [1. Time series graph](#time_series_graph)    \n",
    "   \n",
    "- [2. Bar Graph](#bar_graph)\n",
    "    \n",
    "    - [2.1 vertical bar graph](#1.1)\n",
    "    \n",
    "    - [2.2 Horizontal bar graph](#horizontal_bar_graph)\n",
    "- [3. Pie chart](#peichart)\n",
    "\n",
    "- [4. Donut Plot](#donut_plot)\n",
    "    \n",
    "- [5. Histogram](#histrogram)  \n",
    "    \n",
    "- [6. Scatter Plot](#scatter_plot)\n",
    "    \n",
    "- [7. Box plot](#box_plot)  \n",
    "    \n",
    "- [8. Violin Plots](#violin_plots)\n",
    "    \n",
    "    \n",
    "\n",
    "    \n",
    "\n",
    "    \n",
    " \n",
    "\n",
    "<hr>"
   ]
  },
  {
   "cell_type": "code",
   "execution_count": null,
   "id": "a58fc52f-2c69-4358-b343-b85bfdb8b793",
   "metadata": {},
   "outputs": [],
   "source": [
    "x = [1,4, 8, 16, 32]"
   ]
  },
  {
   "cell_type": "code",
   "execution_count": null,
   "id": "ece1edcd-7f8b-41a6-b2cf-90a2ec8b3119",
   "metadata": {},
   "outputs": [],
   "source": [
    "plt.figure()\n",
    "plt.plot(x)"
   ]
  },
  {
   "cell_type": "markdown",
   "id": "c9d87dc7",
   "metadata": {},
   "source": [
    "<a id='bar_graph'></a>\n",
    "### 2. Bar Graph\n",
    "\n",
    "<div style=\"text-align: center;\">\n",
    "    <img src=\"https://raw.githubusercontent.com/ManonYa09/Fundametal_Data_Science_G8/main/11.%20Data%20Visualization/Photo/Chart%20Types/bar%20chart.jpg\" alt=\"Introduction to Data Visualization\" width=\"800\">\n",
    "</div>\n",
    "\n",
    "#### 2.1 Vertical bar graph"
   ]
  },
  {
   "cell_type": "code",
   "execution_count": null,
   "id": "a48a6d44",
   "metadata": {},
   "outputs": [],
   "source": [
    "df = pd.read_csv('https://raw.githubusercontent.com/ManonYa09/Fundametal_Data_Science_G8/main/Dataset/2.%20Bank%20Customer%20Churn%20Prediction.csv')"
   ]
  },
  {
   "cell_type": "markdown",
   "id": "cc53ac17",
   "metadata": {},
   "source": [
    "\n",
    "```py\n",
    "plt.bar(x, height, width, bottom, align)\n",
    "```\n",
    "A **bar graph** represents the data by using vertical or horizontal bars whose heights or \n",
    "lengths represent the frequencies of the data."
   ]
  },
  {
   "cell_type": "code",
   "execution_count": null,
   "id": "8703dd4f",
   "metadata": {},
   "outputs": [],
   "source": [
    "df['country'].value_counts()"
   ]
  },
  {
   "cell_type": "code",
   "execution_count": null,
   "id": "de748f24-87de-42af-9a56-37d28b653cd4",
   "metadata": {},
   "outputs": [],
   "source": [
    "fig, ax = plt.subplots(figsize=(15, 6))\n",
    "ax.bar(df['country'].value_counts().index, height=df['country'].value_counts(), width = 0.2)\n",
    "ax.set_title('Country')\n",
    "ax.set_ylabel('Frequency')\n",
    "ax.set_xlabel('Country')\n",
    "plt.show()"
   ]
  },
  {
   "cell_type": "code",
   "execution_count": null,
   "id": "e6f17392-9f31-4ba3-aa8a-f202a8f59ca0",
   "metadata": {},
   "outputs": [],
   "source": [
    "fig, ax = plt.subplots(figsize = (12, 4), dpi = 300)\n",
    "# ax.bar(x= df['country'].value_counts().index, height=df['country'].value_counts(), width = 0.2)\n",
    "sns.barplot(x = df['country'].value_counts().index, y =df['country'].value_counts(), width = 0.2)\n",
    "ax.set_yticks(np.arange(0, 5100, 500))\n",
    "ax.set_title('Country')\n",
    "ax.set_ylabel('Frequency')\n",
    "ax.set_xlabel('Country')\n",
    "ax.spines[['right', 'top','left']].set_visible(False)\n",
    "ax.bar_label(ax.containers[0], fontsize = 12)\n",
    "plt.savefig('Bar_country.png', dpi = 300)\n",
    "plt.show()"
   ]
  },
  {
   "cell_type": "code",
   "execution_count": null,
   "id": "c6e47390-f824-44ab-8f51-0390c9eb4163",
   "metadata": {},
   "outputs": [],
   "source": [
    "fig, ax = plt.subplots(figsize = (12, 4), dpi = 300)\n",
    "ax.bar(x= df['country'].value_counts().index, height=df['country'].value_counts(), width = 0.2)\n",
    "ax.set_yticks(np.arange(0, 5100, 500))\n",
    "ax.set_title('Country')\n",
    "ax.set_ylabel('Frequency')\n",
    "ax.set_xlabel('Country')\n",
    "ax.spines[['right', 'top','left']].set_visible(False)\n",
    "ax.bar_label(ax.containers[0])\n",
    "# plt.savefig\n",
    "# fig.savefig()\n",
    "plt.show()"
   ]
  },
  {
   "cell_type": "code",
   "execution_count": null,
   "id": "6ee9f5d9-8c8a-4b5a-a8fd-c99a17d44500",
   "metadata": {},
   "outputs": [],
   "source": []
  },
  {
   "cell_type": "markdown",
   "id": "9448a447",
   "metadata": {},
   "source": [
    "#### 2.3 Horizontal bar graph\n",
    "<a id='horizontal_bar_graph'></a>"
   ]
  },
  {
   "cell_type": "code",
   "execution_count": null,
   "id": "e01ee150",
   "metadata": {},
   "outputs": [],
   "source": [
    "fig, ax = plt.subplots(figsize = (10, 6), dpi = 100)\n",
    "sns.barplot(x = df['country'].value_counts().index, y = df['country'].value_counts(), width=.4 )\n",
    "ax.set_title('Distribution of Countries', fontsize = 20)\n",
    "ax.set_ylabel('Frequency')\n",
    "ax.set_xlabel('Country')\n",
    "ax.set_yticks(np.arange(0, 5500, 500))\n",
    "ax.bar_label(ax.containers[0], fontsize=10)\n",
    "ax.spines[['right', 'top']].set_visible(False)\n",
    "fig.savefig('distribution_of_countries.png', dpi = 300)\n",
    "plt.show()"
   ]
  },
  {
   "cell_type": "markdown",
   "id": "83c8b55b",
   "metadata": {},
   "source": [
    "### 2.2 Horizontal bar graph\n",
    "<a id='horizontal_bar_graph'></a>"
   ]
  },
  {
   "cell_type": "code",
   "execution_count": null,
   "id": "02a3502b",
   "metadata": {},
   "outputs": [],
   "source": [
    "df1 = pd.read_csv('https://raw.githubusercontent.com/ManonYa09/Python_for_Data-Science-AI-/main/Dataset/education_districtwise.csv')"
   ]
  },
  {
   "cell_type": "code",
   "execution_count": null,
   "id": "8be77abd-fce2-4dd7-89c2-74bfd43bc2cc",
   "metadata": {},
   "outputs": [],
   "source": [
    "df1"
   ]
  },
  {
   "cell_type": "code",
   "execution_count": null,
   "id": "8219a8cf-ef36-4f9d-963b-5f26bd984207",
   "metadata": {},
   "outputs": [],
   "source": [
    "df1[df1['OVERALL_LI']<60]['STATNAME'].value_counts()"
   ]
  },
  {
   "cell_type": "code",
   "execution_count": null,
   "id": "7278b2ad",
   "metadata": {},
   "outputs": [],
   "source": [
    "Oli_below_60 = df1[df1['OVERALL_LI']<60]['STATNAME'].value_counts()"
   ]
  },
  {
   "cell_type": "code",
   "execution_count": null,
   "id": "24319ece-c3e8-4ca9-b535-e985f75333dc",
   "metadata": {},
   "outputs": [],
   "source": [
    "fig, ax = plt.subplots(figsize = (10, 6), dpi = 100)\n",
    "sns.barplot(x = Oli_below_60.index, y = Oli_below_60, width=.4 )\n",
    "ax.set_xticklabels(Oli_below_60.index, rotation = 45)\n",
    "ax.set_title('State Overal_Li below 60 ', fontsize = 20)\n",
    "# ax.set_ylabel('Frequency')\n",
    "# ax.set_xlabel('Country')\n",
    "# ax.set_yticks(np.arange(0, 5500, 500))\n",
    "ax.bar_label(ax.containers[0], fontsize=10)\n",
    "ax.spines[['right', 'top']].set_visible(False)"
   ]
  },
  {
   "cell_type": "code",
   "execution_count": null,
   "id": "518197e0",
   "metadata": {},
   "outputs": [],
   "source": [
    "Oli_below_60"
   ]
  },
  {
   "cell_type": "code",
   "execution_count": null,
   "id": "14150647",
   "metadata": {},
   "outputs": [],
   "source": [
    "Oli_below_60"
   ]
  },
  {
   "cell_type": "code",
   "execution_count": null,
   "id": "612f9cc0",
   "metadata": {},
   "outputs": [],
   "source": [
    "fig, ax = plt.subplots(figsize = (10, 6), dpi = 300)\n",
    "# sns.set_style(\"whitegrid\")\n",
    "ax.barh(y = Oli_below_60.index, width=Oli_below_60,height=0.6)\n",
    "# ax.set_yticklabels(Oli_below_60.index, rotation  = 45)\n",
    "ax.set_title('States Having Literacy Rates Below 60%', fontsize=14)\n",
    "ax.set_xlabel('Number of State with Literacy Rates Below 60%', fontsize=12)\n",
    "ax.set_ylabel('State Name', fontsize=12)\n",
    "ax.bar_label(ax.containers[0], fontsize=10)\n",
    "# ax.grid()\n",
    "ax.spines[['right', 'top']].set_visible(False)\n",
    "# fig.savefig('State Name_below60%.png' dpi = 1000)"
   ]
  },
  {
   "cell_type": "markdown",
   "id": "4657b071",
   "metadata": {},
   "source": [
    "### 3. Pie chart\n",
    "\n",
    "\n",
    "<div style=\"text-align: center;\">\n",
    "    <img src=\"https://raw.githubusercontent.com/ManonYa09/Fundametal_Data_Science_G8/main/11.%20Data%20Visualization/Photo/Chart%20Types/pie%20chart.jpg\" alt=\"Introduction to Data Visualization\" width=\"800\">\n",
    "</div>\n"
   ]
  },
  {
   "cell_type": "code",
   "execution_count": null,
   "id": "a46975db",
   "metadata": {},
   "outputs": [],
   "source": [
    "labels = ['Apples', 'Bananas', 'Cherries', 'Dates']\n",
    "sizes = [30, 45, 15, 10]"
   ]
  },
  {
   "cell_type": "code",
   "execution_count": null,
   "id": "143c1282",
   "metadata": {},
   "outputs": [],
   "source": [
    "# sns.p"
   ]
  },
  {
   "cell_type": "code",
   "execution_count": null,
   "id": "00f19964",
   "metadata": {},
   "outputs": [],
   "source": [
    "plt.pie(sizes, labels=labels,autopct='%1.2f%%' )\n",
    "plt.show()"
   ]
  },
  {
   "cell_type": "code",
   "execution_count": null,
   "id": "33d13803",
   "metadata": {},
   "outputs": [],
   "source": [
    "# plt.rcParams['figure.dpi']=100\n",
    "plt.figure(figsize=(4, 4))\n",
    "plt.pie(x = sizes, labels=labels, autopct='%1.1f%%')\n",
    "plt.title('Pie Chart')\n",
    "# plt.savefig('PieChart')\n",
    "plt.show()"
   ]
  },
  {
   "cell_type": "markdown",
   "id": "716d7ffc",
   "metadata": {},
   "source": [
    "[More Details](https://www.geo.fu-berlin.de/en/v/soga-py/Basics-of-statistics/index.html)"
   ]
  }
 ],
 "metadata": {
  "kernelspec": {
   "display_name": "Python 3 (ipykernel)",
   "language": "python",
   "name": "python3"
  },
  "language_info": {
   "codemirror_mode": {
    "name": "ipython",
    "version": 3
   },
   "file_extension": ".py",
   "mimetype": "text/x-python",
   "name": "python",
   "nbconvert_exporter": "python",
   "pygments_lexer": "ipython3",
   "version": "3.11.5"
  }
 },
 "nbformat": 4,
 "nbformat_minor": 5
}
