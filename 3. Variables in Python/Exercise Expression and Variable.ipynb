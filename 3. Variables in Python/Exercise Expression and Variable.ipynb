{
 "cells": [
  {
   "cell_type": "markdown",
   "id": "3c0f1c65-7b7e-4f1c-909e-c194bcfaa09d",
   "metadata": {},
   "source": [
    "\n",
    "\n",
    "<div style=\"text-align: center;\">\n",
    "    <img src=\"https://raw.githubusercontent.com/ManonYa09/Fundametal_Data_Science_G10/refs/heads/main/Photos/1.jpg\n",
    "\" alt=\"strings\" width=\"600\">\n",
    "</div>"
   ]
  },
  {
   "cell_type": "markdown",
   "id": "070ab4eb-600b-45ec-9fa4-c89bf13313e6",
   "metadata": {},
   "source": [
    "#####  Exercise1:\n",
    "1. Write a python comment saying `'Day 3: of python programming'`\n",
    "2. Declare a `first name` variable and assign a value to it\n",
    "3. Declare a `last name` variable and assign a value to it\n",
    "4. Declare a `full name` variable and assign a value to it\n",
    "5. Declare a `country` variable and assign a value to it\n",
    "6. Declare a `city` variable and assign a value to it\n",
    "7. Declare an `age` variable and assign a value to it\n",
    "8. Declare a `year` variable and assign a value to it\n",
    "9. Declare a variable `is_married` and assign a value to it\n",
    "10. Declare a variable `is_tru`e and assign a value to it\n",
    "11. Declare a variable `is_light_on` and assign a value to it\n",
    "12. Declare multiple variable on one line"
   ]
  },
  {
   "cell_type": "markdown",
   "id": "cbf8e7c3-41ee-48a3-b48f-5c5e15f20f5b",
   "metadata": {},
   "source": [
    "##### Exercise2:\n",
    "\n",
    "1. Check the data type of all your variables using type() built-in function\n",
    "2. Using the len() built-in function, find the length of your first name\n",
    "3. Compare the length of your first name and your last name\n",
    "4. Declare 5 as num_one and 4 as num_two\n",
    "    - Add num_one and num_two and assign the value to a variable total\n",
    "    - Subtract num_two from num_one and assign the value to a variable diff\n",
    "    - Multiply num_two and num_one and assign the value to a variable product\n",
    "    - Divide num_one by num_two and assign the value to a variable division\n",
    "    - Use modulus division to find num_two divided by num_one and assign the value to a variable remainder\n",
    "    - Calculate num_one to the power of num_two and assign the value to a variable exp\n",
    "    - Find floor division of num_one by num_two and assign the value to a variable floor_division\n",
    "5. The radius of a circle is 30 meters.\n",
    "    - Calculate the area of a circle and assign the value to a variable name of area_of_circle\n",
    "    - Calculate the circumference of a circle and assign the value to a variable name of circum_of_circle\n",
    "    - Take radius as user input and calculate the area.\n"
   ]
  },
  {
   "cell_type": "markdown",
   "id": "00eb4d4f-da74-4e9c-a219-196f7e9d56e4",
   "metadata": {},
   "source": [
    "#### Exercise 3"
   ]
  },
  {
   "cell_type": "markdown",
   "id": "d1495677-906a-4363-a756-11589704b688",
   "metadata": {},
   "source": [
    "\n",
    "1. Write a script that prompts the user to enter side a, side b, and side c of the triangle. Calculate the perimeter of the triangle (perimeter = a + b + c).\n",
    "\n",
    "```py\n",
    "Enter side a: 5\n",
    "Enter side b: 4\n",
    "Enter side c: 3\n",
    "The perimeter of the triangle is 12\n",
    "```\n",
    "\n",
    "2. Get length and width of a rectangle using prompt. Calculate its area (area = length x width) and perimeter (perimeter = 2 x (length + width))\n",
    "3. Get radius of a circle using prompt. Calculate the area (area = pi x r x r) and circumference (c = 2 x pi x r) where pi = 3.14."
   ]
  },
  {
   "cell_type": "code",
   "execution_count": null,
   "id": "64433d39-b1c1-47f7-83e1-8e15f939ccf5",
   "metadata": {},
   "outputs": [],
   "source": []
  }
 ],
 "metadata": {
  "kernelspec": {
   "display_name": "Python 3 (ipykernel)",
   "language": "python",
   "name": "python3"
  },
  "language_info": {
   "codemirror_mode": {
    "name": "ipython",
    "version": 3
   },
   "file_extension": ".py",
   "mimetype": "text/x-python",
   "name": "python",
   "nbconvert_exporter": "python",
   "pygments_lexer": "ipython3",
   "version": "3.11.5"
  }
 },
 "nbformat": 4,
 "nbformat_minor": 5
}
