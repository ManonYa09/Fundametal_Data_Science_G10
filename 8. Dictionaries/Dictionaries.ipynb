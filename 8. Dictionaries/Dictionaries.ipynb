{
 "cells": [
  {
   "cell_type": "markdown",
   "metadata": {},
   "source": [
    "\n",
    "# Dictionaries in Python\n",
    "\n",
    "## Objectives\n",
    "\n",
    "After completing this lab you will be able to:\n",
    "\n",
    "*  Create a Dictionary and perform operations on the Dictionary\n"
   ]
  },
  {
   "cell_type": "markdown",
   "metadata": {},
   "source": [
    "## Table of Contents\n",
    "<div class=\"alert alert-block alert-info\" style=\"margin-top: 20px\">\n",
    "  \n",
    "1. [What is Dictionaries?](#1)\n",
    "    \n",
    "    1.1 [Create a Dictionary and access the elements](#1.1)\n",
    "</div>\n",
    "\n",
    "<hr>\n"
   ]
  },
  {
   "cell_type": "markdown",
   "metadata": {},
   "source": [
    "<a id=\"dic\"></a>\n",
    "## Dictionaries\n"
   ]
  },
  {
   "cell_type": "markdown",
   "metadata": {},
   "source": [
    "<a id=1></a>\n",
    "## What are Dictionaries?\n"
   ]
  },
  {
   "cell_type": "markdown",
   "metadata": {},
   "source": [
    "A dictionary consists of keys and values. It is helpful to compare a dictionary to a list. Instead of being indexed numerically like a list, dictionaries have keys. These keys are the keys that are used to access values within a dictionary.   \n"
   ]
  },
  {
   "cell_type": "markdown",
   "metadata": {},
   "source": [
    "<img src=\"https://cf-courses-data.s3.us.cloud-object-storage.appdomain.cloud/IBMDeveloperSkillsNetwork-PY0101EN-SkillsNetwork/labs/Module%202/images/DictsList.png\" width=\"400\">\n"
   ]
  },
  {
   "cell_type": "markdown",
   "metadata": {},
   "source": [
    "### Dictionary Methods:\n",
    "\n",
    "1. **dict.keys()** - Returns a list of all the keys in the dictionary.\n",
    "\n",
    "2. **dict.values()** - Returns a list of all the values in the dictionary.\n",
    "\n",
    "3. **dict.items()** - Returns a list of key-value pairs (tuples) in the dictionary.\n",
    "\n",
    "3. **dict.get(key)** - Returns the value associated with the given key. If the key is not found, it returns a default value.\n",
    "\n",
    "4. **dict.pop(key)** - Removes the key and its associated value from the dictionary and returns the value.\n",
    "\n",
    "5. **dict.popitem()** - Removes and returns an arbitrary key-value pair from the dictionary.\n",
    "\n",
    "6. **dict.update(other_dict)** - Updates the dictionary with key-value pairs from another dictionary or iterable.\n",
    "\n",
    "7. **dict.clear()** - Removes all items from the dictionary.\n",
    "\n",
    "8. **dict.copy()** - Returns a shallow copy of the dictionary.\n",
    "\n",
    "9. **dict.fromkeys(keys, value)** - Creates a new dictionary with the specified keys and a common value.\n",
    "<hr>"
   ]
  },
  {
   "cell_type": "markdown",
   "metadata": {},
   "source": [
    "### Common Dictionary Functions:\n",
    "\n",
    "1. **len(dictionary)** - Returns the number of key-value pairs in the dictionary.\n",
    "\n",
    "2. **key in dictionary** - Checks if a key exists in the dictionary.\n",
    "\n",
    "3. **key not in dictionary** - Checks if a key does not exist in the dictionary.\n",
    "\n",
    "4. **sorted(dictionary)** - Returns a sorted list of keys in the dictionary.\n",
    "\n",
    "5. **max(dictionary)** - Returns the key with the maximum value.\n",
    "\n",
    "6. **min(dictionary)** - Returns the key with the minimum value."
   ]
  },
  {
   "cell_type": "markdown",
   "metadata": {},
   "source": [
    "<a id=1.1></a>\n",
    "### Create a Dictionary and access the elements\n"
   ]
  },
  {
   "cell_type": "code",
   "execution_count": 2,
   "metadata": {},
   "outputs": [],
   "source": [
    "import pandas as pd"
   ]
  },
  {
   "cell_type": "code",
   "execution_count": 3,
   "metadata": {},
   "outputs": [],
   "source": [
    "sample_dict = {'apple': 3, 'banana': 5, 'cherry': 2}"
   ]
  },
  {
   "cell_type": "code",
   "execution_count": 17,
   "metadata": {},
   "outputs": [],
   "source": [
    "my_dict = {\n",
    "    \"name\": \"John\",\n",
    "    \"age\": 30,\n",
    "    \"city\": \"New York\"\n",
    "}"
   ]
  },
  {
   "cell_type": "code",
   "execution_count": 25,
   "metadata": {},
   "outputs": [],
   "source": [
    "my_dict2 = {\n",
    "    \"name\": [\"John\", 'Michel', 'Jeck', 'Sucy'],\n",
    "    'gender':['M', 'M', 'F', 'F'],\n",
    "    \"age\":[30, 23, 32, 43],\n",
    "    \"city\": [\"New York\", 'pp', 'sv', 'tk']\n",
    "}"
   ]
  },
  {
   "cell_type": "markdown",
   "metadata": {},
   "source": [
    "### Exercise"
   ]
  },
  {
   "cell_type": "markdown",
   "metadata": {},
   "source": [
    "<img src=\"https://cf-courses-data.s3.us.cloud-object-storage.appdomain.cloud/IBMDeveloperSkillsNetwork-PY0101EN-SkillsNetwork/labs/Module%202/images/DictsStructure.png\" width=\"400\">\n"
   ]
  },
  {
   "cell_type": "code",
   "execution_count": 1,
   "metadata": {},
   "outputs": [],
   "source": [
    "# df = pd.read_csv('DataTest.csv')"
   ]
  },
  {
   "cell_type": "markdown",
   "metadata": {},
   "source": [
    "1. What is the minimum purchase price?\n",
    "2. What is the median purchase price?\n",
    "3. What is the maximum purchase price?\n",
    "4. What is the mean (average) purchase price?"
   ]
  },
  {
   "cell_type": "code",
   "execution_count": 44,
   "metadata": {},
   "outputs": [],
   "source": [
    "url = 'https://raw.githubusercontent.com/ManonYa09/Data_analysis_with_pandas/main/Data/Ecommerce%20Purchases.csv'\n",
    "# # Read the CSV file into a DataFrame\n",
    "df = pd.read_csv(url)\n"
   ]
  }
 ],
 "metadata": {
  "kernelspec": {
   "display_name": "Python 3 (ipykernel)",
   "language": "python",
   "name": "python3"
  },
  "language_info": {
   "codemirror_mode": {
    "name": "ipython",
    "version": 3
   },
   "file_extension": ".py",
   "mimetype": "text/x-python",
   "name": "python",
   "nbconvert_exporter": "python",
   "pygments_lexer": "ipython3",
   "version": "3.11.5"
  }
 },
 "nbformat": 4,
 "nbformat_minor": 4
}
