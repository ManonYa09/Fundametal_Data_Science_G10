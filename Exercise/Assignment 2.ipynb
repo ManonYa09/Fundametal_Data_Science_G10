{
 "cells": [
  {
   "cell_type": "markdown",
   "id": "5280b901-b93d-4c49-b688-4bc6a3e922bc",
   "metadata": {},
   "source": [
    "- `Address`: Physical address of the customer\n",
    "- `Lot`: A lot code associated with the purchase\n",
    "- `AM or PM`: Time of day of the purchase\n",
    "- `Browser Info`: Information about the browser used to make the purchase\n",
    "- `Company`: Name of the company associated with the email address\n",
    "- `Credit Card`: Credit card number used for the purchase\n",
    "- `CC Exp Date`: Expiry date of the credit card\n",
    "- `CC Security Code`: Security code of the credit card\n",
    "- `CC Provider`: Provider of the credit card\n",
    "- `Email`: Email address of the customer\n",
    "- `Job`: Occupation of the customer\n",
    "- `IP Address`: IP address from where the purchase was made\n",
    "- `Language`: Language preference of the customer\n",
    "- `Purchase Price`: Amount of the purchase"
   ]
  },
  {
   "cell_type": "code",
   "execution_count": null,
   "id": "bb25da27-d642-45db-ac8e-004f566b3f54",
   "metadata": {},
   "outputs": [],
   "source": [
    "df = pd.read_csv('https://raw.githubusercontent.com/ManonYa09/Data_analysis_with_pandas/main/Data/Ecommerce%20Purchases.csv')"
   ]
  },
  {
   "cell_type": "markdown",
   "id": "2a633d85-ae30-4f89-9db1-4f5ccd08dd35",
   "metadata": {},
   "source": [
    "9. Job Title Contains Engineer or engineer\n",
    "10. Find The Email of the person with the following IP Address: 132.207.160.22\n",
    "11. How many People have Mastercard as their Credit Card Provider and made a purchase above 50?\n",
    "12. Find the email of the person with the following Credit Card Number: 4664825258997302\n",
    "13. How many people purchase during the AM and how many people purchase during PM?\n",
    "14. How many people have a credit card that expires in 2020?\n",
    "15. What are the top 5 most popular email providers (e.g. [gmail.com](http://gmail.com/), [yahoo.com](http://yahoo.com/), etc...)"
   ]
  },
  {
   "cell_type": "code",
   "execution_count": null,
   "id": "42a5b7eb-e4f8-4a49-ba21-2be061cea703",
   "metadata": {},
   "outputs": [],
   "source": []
  }
 ],
 "metadata": {
  "kernelspec": {
   "display_name": "Python 3 (ipykernel)",
   "language": "python",
   "name": "python3"
  },
  "language_info": {
   "codemirror_mode": {
    "name": "ipython",
    "version": 3
   },
   "file_extension": ".py",
   "mimetype": "text/x-python",
   "name": "python",
   "nbconvert_exporter": "python",
   "pygments_lexer": "ipython3",
   "version": "3.11.5"
  }
 },
 "nbformat": 4,
 "nbformat_minor": 5
}
